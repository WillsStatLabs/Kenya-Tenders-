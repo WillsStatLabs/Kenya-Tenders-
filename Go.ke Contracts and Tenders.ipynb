{
  "cells": [
    {
      "cell_type": "raw",
      "metadata": {},
      "source": [
        "---\n",
        "title: \"Go.Ke Tenders & Contracts\"\n",
        "author: \"Indagwa Terrance\"\n",
        "format: html\n",
        "---"
      ],
      "id": "989ea9b5"
    },
    {
      "cell_type": "markdown",
      "metadata": {},
      "source": [
        "# Loading libraries"
      ],
      "id": "ef5a1581"
    },
    {
      "cell_type": "code",
      "metadata": {},
      "source": [
        "import pandas as pd\n",
        "import matplotlib.pyplot as plt\n",
        "import seaborn as sns\n"
      ],
      "id": "71dc5331",
      "execution_count": null,
      "outputs": []
    },
    {
      "cell_type": "markdown",
      "metadata": {},
      "source": [
        "# Data\n"
      ],
      "id": "10370562"
    },
    {
      "cell_type": "code",
      "metadata": {},
      "source": [
        "data= pd.read_excel(\"TENDERS.xlsx\", sheet_name=\"df\")\n",
        "\n",
        "data.head()# checking the first 6 entries\n",
        "\n",
        "\n",
        "data=data.rename(columns={\"Pe Name\": \"Site\", \"Procurementcategory\": \"Procument Category\", \"Publisheddate\": \"Published date\", \"Closedate\": \"Closed date\",\"Title/Description\": \"Description\", }) #renaming columns\n",
        "\n",
        "data=data[[\"Site\", \"Description\", \"Procument Category\",\"Procurement Method\", \"Published date\", \"Closed date\", \"Submission method\"]]\n",
        "\n",
        "\n",
        "data.info()\n"
      ],
      "id": "5c003a0d",
      "execution_count": null,
      "outputs": []
    },
    {
      "cell_type": "markdown",
      "metadata": {},
      "source": [
        "## Procurement Category"
      ],
      "id": "d1d5d247"
    },
    {
      "cell_type": "code",
      "metadata": {},
      "source": [
        "dt=data[\"Procument Category\"].value_counts()\n",
        "\n",
        "df_counts=pd.DataFrame({\"Category\": dt.index, \"Counts\":dt.values})\n",
        "\n",
        "df_counts=df_counts.head(10)# lets filter top 6 Categorys\n",
        "\n",
        "\n",
        "sns.catplot(data=df_counts, x=\"Category\", y=\"Counts\", kind= \"bar\")\n",
        "plt.xticks(rotation=75)\n",
        "plt.title(\"Top six Procurement Categoryies\")\n",
        "plt.xlabel(\"Procurement Category\")\n",
        "plt.show()"
      ],
      "id": "fa9a438d",
      "execution_count": null,
      "outputs": []
    },
    {
      "cell_type": "markdown",
      "metadata": {},
      "source": [
        "## Procurement Methods"
      ],
      "id": "2d441b4c"
    },
    {
      "cell_type": "code",
      "metadata": {},
      "source": [
        "dt=data[\"Procurement Method\"].value_counts()\n",
        "\n",
        "df_counts=pd.DataFrame({\"Category\": dt.index, \"Counts\":dt.values})\n",
        "\n",
        "df_counts=df_counts.head()# lets filter top 6 methods\n",
        "\n",
        "\n",
        "sns.catplot(data=df_counts, x=\"Category\", y=\"Counts\", kind= \"bar\")\n",
        "plt.xticks(rotation=75)\n",
        "plt.title(\"Top six Procurement Methods\")\n",
        "plt.xlabel(\"Procurement Method\")\n",
        "plt.show()"
      ],
      "id": "c0f51d7e",
      "execution_count": null,
      "outputs": []
    },
    {
      "cell_type": "code",
      "metadata": {},
      "source": [
        "dt=data[\"Submission method\"].value_counts()\n",
        "\n",
        "df_counts=pd.DataFrame({\"Category\": dt.index, \"Counts\":dt.values})\n",
        "\n",
        "df_counts=df_counts.head()# lets filter top 6 methods\n",
        "\n",
        "\n",
        "sns.catplot(data=df_counts, x=\"Category\", y=\"Counts\", kind= \"bar\")\n",
        "plt.xticks(rotation=65)\n",
        "plt.title(\"Common Tender Submission methods in Kenya\")\n",
        "plt.xlabel(\"Submission method\")\n",
        "plt.show()"
      ],
      "id": "fafdf39a",
      "execution_count": null,
      "outputs": []
    }
  ],
  "metadata": {
    "kernelspec": {
      "name": "python3",
      "language": "python",
      "display_name": "Python 3 (ipykernel)"
    }
  },
  "nbformat": 4,
  "nbformat_minor": 5
}